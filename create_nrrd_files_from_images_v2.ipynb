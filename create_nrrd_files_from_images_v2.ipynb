{
 "cells": [
  {
   "cell_type": "code",
   "execution_count": 2,
   "id": "c0ec2dcb",
   "metadata": {},
   "outputs": [
    {
     "name": "stderr",
     "output_type": "stream",
     "text": [
      "/home/yuga/anaconda3/lib/python3.8/site-packages/scipy/__init__.py:138: UserWarning: A NumPy version >=1.16.5 and <1.23.0 is required for this version of SciPy (detected version 1.24.4)\n",
      "  warnings.warn(f\"A NumPy version >={np_minversion} and <{np_maxversion} is required for this version of \"\n"
     ]
    }
   ],
   "source": [
    "from __future__ import print_function\n",
    "import six\n",
    "import os  # needed navigate the system to get the input data\n",
    "import csv\n",
    "from PIL import Image, ImageEnhance, __version__\n",
    "import glob\n",
    "import radiomics\n",
    "from radiomics import featureextractor  # This module is used for interaction with pyradiomics\n",
    "import SimpleITK as sitk\n",
    "import numpy as np\n",
    "from datetime import datetime\n",
    "import nrrd"
   ]
  },
  {
   "cell_type": "code",
   "execution_count": 3,
   "id": "92850d9f",
   "metadata": {
    "scrolled": true
   },
   "outputs": [],
   "source": [
    "path = '/home/yuga/Documents/projects/pneumonia_classification/khuzani_all_data'\n",
    "\n",
    "trainset_nor = []\n",
    "trainset_pne = []\n",
    "testset_nor = []\n",
    "testset_pne = []\n",
    "for imageName in glob.glob(path+'/train/NORMAL/*.jpeg'):  \n",
    "     trainset_nor.append([imageName[85:],Image.open(imageName),0])\n",
    "for imageName in glob.glob(path+'/train/PNEUMONIA/*.jpeg'):  \n",
    "    trainset_pne.append([imageName[88:],Image.open(imageName),0])\n",
    "for imageName in glob.glob(path+'/test/NORMAL/*.jpeg'):  \n",
    "    testset_nor.append([imageName[84:],Image.open(imageName),0])\n",
    "for imageName in glob.glob(path+'/test/PNEUMONIA/*.jpeg'):\n",
    "    testset_pne.append([imageName[87:],Image.open(imageName),0]) "
   ]
  },
  {
   "cell_type": "code",
   "execution_count": 26,
   "id": "9250add4",
   "metadata": {},
   "outputs": [
    {
     "data": {
      "text/plain": [
       "70"
      ]
     },
     "execution_count": 26,
     "metadata": {},
     "output_type": "execute_result"
    }
   ],
   "source": [
    "len(trainset_nor)"
   ]
  },
  {
   "cell_type": "code",
   "execution_count": 5,
   "id": "f6795c60",
   "metadata": {},
   "outputs": [
    {
     "data": {
      "text/plain": [
       "100"
      ]
     },
     "execution_count": 5,
     "metadata": {},
     "output_type": "execute_result"
    }
   ],
   "source": [
    "len(trainset_pne)"
   ]
  },
  {
   "cell_type": "code",
   "execution_count": 6,
   "id": "b087ed70",
   "metadata": {},
   "outputs": [
    {
     "data": {
      "text/plain": [
       "30"
      ]
     },
     "execution_count": 6,
     "metadata": {},
     "output_type": "execute_result"
    }
   ],
   "source": [
    "len(testset_nor)"
   ]
  },
  {
   "cell_type": "code",
   "execution_count": 7,
   "id": "8220f20b",
   "metadata": {},
   "outputs": [
    {
     "data": {
      "text/plain": [
       "40"
      ]
     },
     "execution_count": 7,
     "metadata": {},
     "output_type": "execute_result"
    }
   ],
   "source": [
    "len(testset_pne)"
   ]
  },
  {
   "cell_type": "markdown",
   "id": "764064cc",
   "metadata": {},
   "source": [
    "### Create .nrrd files from the jpeg images"
   ]
  },
  {
   "cell_type": "code",
   "execution_count": 25,
   "id": "45d84ed1",
   "metadata": {},
   "outputs": [],
   "source": [
    "img_dict = {'nrrd_train_normal':trainset_nor,'nrrd_train_normal_mask':trainset_nor,\n",
    "            'nrrd_train_pneu':trainset_pne,'nrrd_train_pneu_mask':trainset_pne,\n",
    "            'nrrd_test_normal':testset_nor,'nrrd_test_normal_mask':testset_nor,\n",
    "            'nrrd_test_pneu':testset_pne,'nrrd_test_pneu_mask':testset_pne}\n",
    "for key,val in img_dict.items():\n",
    "    #print(\"val is :\", val)\n",
    "    #l = val.count()\n",
    "    #print(l)\n",
    "    for img in range(0,len(val)):\n",
    "        #print(\"image is\", img)\n",
    "        im_name = val[img][0]\n",
    "        path = \"/home/yuga/Documents/pyradiomics/pyradiomics-master/notebooks/nrrd_files/\" + key\n",
    "        path_to_mask = \"/home/yuga/Documents/pyradiomics/pyradiomics-master/notebooks/nrrd_files/\" + key\n",
    "        grayscale = np.array(val[img][1])\n",
    "        im = sitk.GetImageFromArray(grayscale)\n",
    "        test_arr = np.ones((grayscale.shape)) # , dtype='uint8')\n",
    "        ma = sitk.GetImageFromArray(test_arr)\n",
    "        \n",
    "        if \"mask\" in key:\n",
    "            sitk.WriteImage(ma, os.path.join(path_to_mask, im_name + '_mask.nrrd'), True)  # enable compression to save disk space\n",
    "        else:\n",
    "            sitk.WriteImage(im, os.path.join(path, im_name + '.nrrd'))"
   ]
  },
  {
   "cell_type": "code",
   "execution_count": null,
   "id": "34a7ca65",
   "metadata": {},
   "outputs": [],
   "source": []
  }
 ],
 "metadata": {
  "kernelspec": {
   "display_name": "Python 3",
   "language": "python",
   "name": "python3"
  },
  "language_info": {
   "codemirror_mode": {
    "name": "ipython",
    "version": 3
   },
   "file_extension": ".py",
   "mimetype": "text/x-python",
   "name": "python",
   "nbconvert_exporter": "python",
   "pygments_lexer": "ipython3",
   "version": "3.8.8"
  }
 },
 "nbformat": 4,
 "nbformat_minor": 5
}
