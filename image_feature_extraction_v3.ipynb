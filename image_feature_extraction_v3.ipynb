{
 "cells": [
  {
   "cell_type": "code",
   "execution_count": 1,
   "id": "c0ec2dcb",
   "metadata": {},
   "outputs": [
    {
     "name": "stderr",
     "output_type": "stream",
     "text": [
      "/home/yuga/anaconda3/lib/python3.8/site-packages/scipy/__init__.py:138: UserWarning: A NumPy version >=1.16.5 and <1.23.0 is required for this version of SciPy (detected version 1.24.4)\n",
      "  warnings.warn(f\"A NumPy version >={np_minversion} and <{np_maxversion} is required for this version of \"\n"
     ]
    }
   ],
   "source": [
    "from __future__ import print_function\n",
    "import six\n",
    "import os  # needed navigate the system to get the input data\n",
    "import csv\n",
    "from PIL import Image, ImageEnhance, __version__\n",
    "import glob\n",
    "import radiomics\n",
    "from radiomics import featureextractor  # This module is used for interaction with pyradiomics\n",
    "import SimpleITK as sitk\n",
    "import numpy as np\n",
    "from datetime import datetime\n",
    "import nrrd"
   ]
  },
  {
   "cell_type": "markdown",
   "id": "35d9aa2c",
   "metadata": {},
   "source": [
    "## To extract features for multiple .nrrd images in a folder"
   ]
  },
  {
   "cell_type": "code",
   "execution_count": 111,
   "id": "75e4a5eb",
   "metadata": {
    "collapsed": true
   },
   "outputs": [
    {
     "name": "stdout",
     "output_type": "stream",
     "text": [
      "the start time is:  18:14:44\n",
      "s1,s2:  person23_virus_56.jpeg.nrrd  -  person23_virus_56.jpeg_mask.nrrd\n",
      "image start time is:  18:14:44\n",
      "/home/yuga/Documents/pyradiomics/pyradiomics-master/notebooks/train/PNEUMONIA/person23_virus_56.jpeg.nrrd\n",
      "/home/yuga/Documents/pyradiomics/pyradiomics-master/notebooks/train_PNEUMONIA_mask/person23_virus_56.jpeg_mask.nrrd\n"
     ]
    },
    {
     "name": "stderr",
     "output_type": "stream",
     "text": [
      "Shape features are only available 3D input (for 2D input, use shape2D). Found 2D input\n"
     ]
    },
    {
     "name": "stdout",
     "output_type": "stream",
     "text": [
      "image start and end time is:  18:14:44  to  18:14:48\n",
      "s1,s2:  person23_bacteria_90.jpeg.nrrd  -  person23_bacteria_90.jpeg_mask.nrrd\n",
      "image start time is:  18:14:48\n",
      "/home/yuga/Documents/pyradiomics/pyradiomics-master/notebooks/train/PNEUMONIA/person23_bacteria_90.jpeg.nrrd\n",
      "/home/yuga/Documents/pyradiomics/pyradiomics-master/notebooks/train_PNEUMONIA_mask/person23_bacteria_90.jpeg_mask.nrrd\n"
     ]
    },
    {
     "name": "stderr",
     "output_type": "stream",
     "text": [
      "Shape features are only available 3D input (for 2D input, use shape2D). Found 2D input\n",
      "Shape features are only available 3D input (for 2D input, use shape2D). Found 2D input\n"
     ]
    },
    {
     "name": "stdout",
     "output_type": "stream",
     "text": [
      "image start and end time is:  18:14:48  to  18:14:50\n",
      "s1,s2:  person5_bacteria_17.jpeg.nrrd  -  person5_bacteria_17.jpeg_mask.nrrd\n",
      "image start time is:  18:14:50\n",
      "/home/yuga/Documents/pyradiomics/pyradiomics-master/notebooks/train/PNEUMONIA/person5_bacteria_17.jpeg.nrrd\n",
      "/home/yuga/Documents/pyradiomics/pyradiomics-master/notebooks/train_PNEUMONIA_mask/person5_bacteria_17.jpeg_mask.nrrd\n"
     ]
    },
    {
     "name": "stderr",
     "output_type": "stream",
     "text": [
      "Shape features are only available 3D input (for 2D input, use shape2D). Found 2D input\n"
     ]
    },
    {
     "name": "stdout",
     "output_type": "stream",
     "text": [
      "image start and end time is:  18:14:50  to  18:14:52\n",
      "s1,s2:  person23_bacteria_84.jpeg.nrrd  -  person23_bacteria_84.jpeg_mask.nrrd\n",
      "image start time is:  18:14:52\n",
      "/home/yuga/Documents/pyradiomics/pyradiomics-master/notebooks/train/PNEUMONIA/person23_bacteria_84.jpeg.nrrd\n",
      "/home/yuga/Documents/pyradiomics/pyradiomics-master/notebooks/train_PNEUMONIA_mask/person23_bacteria_84.jpeg_mask.nrrd\n"
     ]
    },
    {
     "name": "stderr",
     "output_type": "stream",
     "text": [
      "Shape features are only available 3D input (for 2D input, use shape2D). Found 2D input\n"
     ]
    },
    {
     "name": "stdout",
     "output_type": "stream",
     "text": [
      "image start and end time is:  18:14:52  to  18:14:54\n",
      "s1,s2:  person19_bacteria_60.jpeg.nrrd  -  person19_bacteria_60.jpeg_mask.nrrd\n",
      "image start time is:  18:14:54\n",
      "/home/yuga/Documents/pyradiomics/pyradiomics-master/notebooks/train/PNEUMONIA/person19_bacteria_60.jpeg.nrrd\n",
      "/home/yuga/Documents/pyradiomics/pyradiomics-master/notebooks/train_PNEUMONIA_mask/person19_bacteria_60.jpeg_mask.nrrd\n",
      "image start and end time is:  18:14:54  to  18:14:56\n",
      "s1,s2:  person20_bacteria_69.jpeg.nrrd  -  person20_bacteria_69.jpeg_mask.nrrd\n",
      "image start time is:  18:14:56\n",
      "/home/yuga/Documents/pyradiomics/pyradiomics-master/notebooks/train/PNEUMONIA/person20_bacteria_69.jpeg.nrrd\n",
      "/home/yuga/Documents/pyradiomics/pyradiomics-master/notebooks/train_PNEUMONIA_mask/person20_bacteria_69.jpeg_mask.nrrd\n"
     ]
    },
    {
     "name": "stderr",
     "output_type": "stream",
     "text": [
      "Shape features are only available 3D input (for 2D input, use shape2D). Found 2D input\n",
      "Shape features are only available 3D input (for 2D input, use shape2D). Found 2D input\n"
     ]
    },
    {
     "name": "stdout",
     "output_type": "stream",
     "text": [
      "image start and end time is:  18:14:56  to  18:14:58\n",
      "s1,s2:  person18_virus_49.jpeg.nrrd  -  person18_virus_49.jpeg_mask.nrrd\n",
      "image start time is:  18:14:58\n",
      "/home/yuga/Documents/pyradiomics/pyradiomics-master/notebooks/train/PNEUMONIA/person18_virus_49.jpeg.nrrd\n",
      "/home/yuga/Documents/pyradiomics/pyradiomics-master/notebooks/train_PNEUMONIA_mask/person18_virus_49.jpeg_mask.nrrd\n"
     ]
    },
    {
     "name": "stderr",
     "output_type": "stream",
     "text": [
      "Shape features are only available 3D input (for 2D input, use shape2D). Found 2D input\n"
     ]
    },
    {
     "name": "stdout",
     "output_type": "stream",
     "text": [
      "image start and end time is:  18:14:58  to  18:15:00\n",
      "s1,s2:  person25_bacteria_115.jpeg.nrrd  -  person25_bacteria_115.jpeg_mask.nrrd\n",
      "image start time is:  18:15:00\n",
      "/home/yuga/Documents/pyradiomics/pyradiomics-master/notebooks/train/PNEUMONIA/person25_bacteria_115.jpeg.nrrd\n",
      "/home/yuga/Documents/pyradiomics/pyradiomics-master/notebooks/train_PNEUMONIA_mask/person25_bacteria_115.jpeg_mask.nrrd\n"
     ]
    },
    {
     "name": "stderr",
     "output_type": "stream",
     "text": [
      "Shape features are only available 3D input (for 2D input, use shape2D). Found 2D input\n"
     ]
    },
    {
     "name": "stdout",
     "output_type": "stream",
     "text": [
      "image start and end time is:  18:15:00  to  18:15:02\n",
      "s1,s2:  person24_bacteria_110.jpeg.nrrd  -  person24_bacteria_110.jpeg_mask.nrrd\n",
      "image start time is:  18:15:02\n",
      "/home/yuga/Documents/pyradiomics/pyradiomics-master/notebooks/train/PNEUMONIA/person24_bacteria_110.jpeg.nrrd\n",
      "/home/yuga/Documents/pyradiomics/pyradiomics-master/notebooks/train_PNEUMONIA_mask/person24_bacteria_110.jpeg_mask.nrrd\n",
      "image start and end time is:  18:15:02  to  18:15:04\n",
      "s1,s2:  person21_virus_53.jpeg.nrrd  -  person21_virus_53.jpeg_mask.nrrd\n",
      "image start time is:  18:15:04\n",
      "/home/yuga/Documents/pyradiomics/pyradiomics-master/notebooks/train/PNEUMONIA/person21_virus_53.jpeg.nrrd\n",
      "/home/yuga/Documents/pyradiomics/pyradiomics-master/notebooks/train_PNEUMONIA_mask/person21_virus_53.jpeg_mask.nrrd\n"
     ]
    },
    {
     "name": "stderr",
     "output_type": "stream",
     "text": [
      "Shape features are only available 3D input (for 2D input, use shape2D). Found 2D input\n",
      "Shape features are only available 3D input (for 2D input, use shape2D). Found 2D input\n"
     ]
    },
    {
     "name": "stdout",
     "output_type": "stream",
     "text": [
      "image start and end time is:  18:15:04  to  18:15:12\n",
      "s1,s2:  person23_bacteria_92.jpeg.nrrd  -  person23_bacteria_92.jpeg_mask.nrrd\n",
      "image start time is:  18:15:12\n",
      "/home/yuga/Documents/pyradiomics/pyradiomics-master/notebooks/train/PNEUMONIA/person23_bacteria_92.jpeg.nrrd\n",
      "/home/yuga/Documents/pyradiomics/pyradiomics-master/notebooks/train_PNEUMONIA_mask/person23_bacteria_92.jpeg_mask.nrrd\n",
      "image start and end time is:  18:15:12  to  18:15:14\n",
      "s1,s2:  person22_bacteria_77.jpeg.nrrd  -  person22_bacteria_77.jpeg_mask.nrrd\n",
      "image start time is:  18:15:14\n",
      "/home/yuga/Documents/pyradiomics/pyradiomics-master/notebooks/train/PNEUMONIA/person22_bacteria_77.jpeg.nrrd\n",
      "/home/yuga/Documents/pyradiomics/pyradiomics-master/notebooks/train_PNEUMONIA_mask/person22_bacteria_77.jpeg_mask.nrrd\n"
     ]
    },
    {
     "name": "stderr",
     "output_type": "stream",
     "text": [
      "Shape features are only available 3D input (for 2D input, use shape2D). Found 2D input\n"
     ]
    },
    {
     "name": "stdout",
     "output_type": "stream",
     "text": [
      "image start and end time is:  18:15:14  to  18:15:17\n",
      "s1,s2:  person9_bacteria_40.jpeg.nrrd  -  person9_bacteria_40.jpeg_mask.nrrd\n",
      "image start time is:  18:15:17\n",
      "/home/yuga/Documents/pyradiomics/pyradiomics-master/notebooks/train/PNEUMONIA/person9_bacteria_40.jpeg.nrrd\n",
      "/home/yuga/Documents/pyradiomics/pyradiomics-master/notebooks/train_PNEUMONIA_mask/person9_bacteria_40.jpeg_mask.nrrd\n"
     ]
    },
    {
     "name": "stderr",
     "output_type": "stream",
     "text": [
      "Shape features are only available 3D input (for 2D input, use shape2D). Found 2D input\n",
      "Shape features are only available 3D input (for 2D input, use shape2D). Found 2D input\n"
     ]
    },
    {
     "name": "stdout",
     "output_type": "stream",
     "text": [
      "image start and end time is:  18:15:17  to  18:15:21\n",
      "s1,s2:  person20_bacteria_64.jpeg.nrrd  -  person20_bacteria_64.jpeg_mask.nrrd\n",
      "image start time is:  18:15:21\n",
      "/home/yuga/Documents/pyradiomics/pyradiomics-master/notebooks/train/PNEUMONIA/person20_bacteria_64.jpeg.nrrd\n",
      "/home/yuga/Documents/pyradiomics/pyradiomics-master/notebooks/train_PNEUMONIA_mask/person20_bacteria_64.jpeg_mask.nrrd\n",
      "image start and end time is:  18:15:21  to  18:15:22\n",
      "s1,s2:  person6_bacteria_22.jpeg.nrrd  -  person6_bacteria_22.jpeg_mask.nrrd\n",
      "image start time is:  18:15:22\n",
      "/home/yuga/Documents/pyradiomics/pyradiomics-master/notebooks/train/PNEUMONIA/person6_bacteria_22.jpeg.nrrd\n",
      "/home/yuga/Documents/pyradiomics/pyradiomics-master/notebooks/train_PNEUMONIA_mask/person6_bacteria_22.jpeg_mask.nrrd\n"
     ]
    },
    {
     "name": "stderr",
     "output_type": "stream",
     "text": [
      "Shape features are only available 3D input (for 2D input, use shape2D). Found 2D input\n",
      "Shape features are only available 3D input (for 2D input, use shape2D). Found 2D input\n"
     ]
    },
    {
     "name": "stdout",
     "output_type": "stream",
     "text": [
      "image start and end time is:  18:15:22  to  18:15:24\n",
      "s1,s2:  person23_bacteria_96.jpeg.nrrd  -  person23_bacteria_96.jpeg_mask.nrrd\n",
      "image start time is:  18:15:24\n",
      "/home/yuga/Documents/pyradiomics/pyradiomics-master/notebooks/train/PNEUMONIA/person23_bacteria_96.jpeg.nrrd\n",
      "/home/yuga/Documents/pyradiomics/pyradiomics-master/notebooks/train_PNEUMONIA_mask/person23_bacteria_96.jpeg_mask.nrrd\n"
     ]
    },
    {
     "name": "stderr",
     "output_type": "stream",
     "text": [
      "Shape features are only available 3D input (for 2D input, use shape2D). Found 2D input\n"
     ]
    },
    {
     "name": "stdout",
     "output_type": "stream",
     "text": [
      "image start and end time is:  18:15:24  to  18:15:27\n",
      "s1,s2:  person23_bacteria_85.jpeg.nrrd  -  person23_bacteria_85.jpeg_mask.nrrd\n",
      "image start time is:  18:15:27\n",
      "/home/yuga/Documents/pyradiomics/pyradiomics-master/notebooks/train/PNEUMONIA/person23_bacteria_85.jpeg.nrrd\n",
      "/home/yuga/Documents/pyradiomics/pyradiomics-master/notebooks/train_PNEUMONIA_mask/person23_bacteria_85.jpeg_mask.nrrd\n",
      "image start and end time is:  18:15:27  to  18:15:28\n",
      "s1,s2:  person12_bacteria_48.jpeg.nrrd  -  person12_bacteria_48.jpeg_mask.nrrd\n",
      "image start time is:  18:15:28\n",
      "/home/yuga/Documents/pyradiomics/pyradiomics-master/notebooks/train/PNEUMONIA/person12_bacteria_48.jpeg.nrrd\n",
      "/home/yuga/Documents/pyradiomics/pyradiomics-master/notebooks/train_PNEUMONIA_mask/person12_bacteria_48.jpeg_mask.nrrd\n"
     ]
    },
    {
     "name": "stderr",
     "output_type": "stream",
     "text": [
      "Shape features are only available 3D input (for 2D input, use shape2D). Found 2D input\n",
      "Shape features are only available 3D input (for 2D input, use shape2D). Found 2D input\n"
     ]
    },
    {
     "name": "stdout",
     "output_type": "stream",
     "text": [
      "image start and end time is:  18:15:28  to  18:15:35\n",
      "s1,s2:  person23_bacteria_97.jpeg.nrrd  -  person23_bacteria_97.jpeg_mask.nrrd\n",
      "image start time is:  18:15:35\n",
      "/home/yuga/Documents/pyradiomics/pyradiomics-master/notebooks/train/PNEUMONIA/person23_bacteria_97.jpeg.nrrd\n",
      "/home/yuga/Documents/pyradiomics/pyradiomics-master/notebooks/train_PNEUMONIA_mask/person23_bacteria_97.jpeg_mask.nrrd\n"
     ]
    },
    {
     "name": "stderr",
     "output_type": "stream",
     "text": [
      "Shape features are only available 3D input (for 2D input, use shape2D). Found 2D input\n"
     ]
    },
    {
     "name": "stdout",
     "output_type": "stream",
     "text": [
      "image start and end time is:  18:15:35  to  18:15:37\n",
      "s1,s2:  person25_bacteria_114.jpeg.nrrd  -  person25_bacteria_114.jpeg_mask.nrrd\n",
      "image start time is:  18:15:37\n",
      "/home/yuga/Documents/pyradiomics/pyradiomics-master/notebooks/train/PNEUMONIA/person25_bacteria_114.jpeg.nrrd\n",
      "/home/yuga/Documents/pyradiomics/pyradiomics-master/notebooks/train_PNEUMONIA_mask/person25_bacteria_114.jpeg_mask.nrrd\n"
     ]
    },
    {
     "name": "stderr",
     "output_type": "stream",
     "text": [
      "Shape features are only available 3D input (for 2D input, use shape2D). Found 2D input\n"
     ]
    },
    {
     "name": "stdout",
     "output_type": "stream",
     "text": [
      "image start and end time is:  18:15:37  to  18:15:39\n",
      "s1,s2:  person12_bacteria_47.jpeg.nrrd  -  person12_bacteria_47.jpeg_mask.nrrd\n",
      "image start time is:  18:15:39\n",
      "/home/yuga/Documents/pyradiomics/pyradiomics-master/notebooks/train/PNEUMONIA/person12_bacteria_47.jpeg.nrrd\n",
      "/home/yuga/Documents/pyradiomics/pyradiomics-master/notebooks/train_PNEUMONIA_mask/person12_bacteria_47.jpeg_mask.nrrd\n"
     ]
    },
    {
     "name": "stderr",
     "output_type": "stream",
     "text": [
      "Shape features are only available 3D input (for 2D input, use shape2D). Found 2D input\n"
     ]
    },
    {
     "name": "stdout",
     "output_type": "stream",
     "text": [
      "image start and end time is:  18:15:39  to  18:15:43\n",
      "s1,s2:  person9_bacteria_39.jpeg.nrrd  -  person9_bacteria_39.jpeg_mask.nrrd\n",
      "image start time is:  18:15:43\n",
      "/home/yuga/Documents/pyradiomics/pyradiomics-master/notebooks/train/PNEUMONIA/person9_bacteria_39.jpeg.nrrd\n",
      "/home/yuga/Documents/pyradiomics/pyradiomics-master/notebooks/train_PNEUMONIA_mask/person9_bacteria_39.jpeg_mask.nrrd\n"
     ]
    },
    {
     "name": "stderr",
     "output_type": "stream",
     "text": [
      "Shape features are only available 3D input (for 2D input, use shape2D). Found 2D input\n"
     ]
    },
    {
     "name": "stdout",
     "output_type": "stream",
     "text": [
      "image start and end time is:  18:15:43  to  18:15:46\n",
      "s1,s2:  person23_bacteria_83.jpeg.nrrd  -  person23_bacteria_83.jpeg_mask.nrrd\n",
      "image start time is:  18:15:46\n",
      "/home/yuga/Documents/pyradiomics/pyradiomics-master/notebooks/train/PNEUMONIA/person23_bacteria_83.jpeg.nrrd\n",
      "/home/yuga/Documents/pyradiomics/pyradiomics-master/notebooks/train_PNEUMONIA_mask/person23_bacteria_83.jpeg_mask.nrrd\n",
      "image start and end time is:  18:15:46  to  18:15:48\n",
      "s1,s2:  person20_virus_51.jpeg.nrrd  -  person20_virus_51.jpeg_mask.nrrd\n",
      "image start time is:  18:15:48\n",
      "/home/yuga/Documents/pyradiomics/pyradiomics-master/notebooks/train/PNEUMONIA/person20_virus_51.jpeg.nrrd\n",
      "/home/yuga/Documents/pyradiomics/pyradiomics-master/notebooks/train_PNEUMONIA_mask/person20_virus_51.jpeg_mask.nrrd\n"
     ]
    },
    {
     "name": "stderr",
     "output_type": "stream",
     "text": [
      "Shape features are only available 3D input (for 2D input, use shape2D). Found 2D input\n",
      "Shape features are only available 3D input (for 2D input, use shape2D). Found 2D input\n"
     ]
    },
    {
     "name": "stdout",
     "output_type": "stream",
     "text": [
      "image start and end time is:  18:15:48  to  18:15:53\n",
      "s1,s2:  person23_bacteria_94.jpeg.nrrd  -  person23_bacteria_94.jpeg_mask.nrrd\n",
      "image start time is:  18:15:53\n",
      "/home/yuga/Documents/pyradiomics/pyradiomics-master/notebooks/train/PNEUMONIA/person23_bacteria_94.jpeg.nrrd\n",
      "/home/yuga/Documents/pyradiomics/pyradiomics-master/notebooks/train_PNEUMONIA_mask/person23_bacteria_94.jpeg_mask.nrrd\n"
     ]
    },
    {
     "name": "stderr",
     "output_type": "stream",
     "text": [
      "Shape features are only available 3D input (for 2D input, use shape2D). Found 2D input\n"
     ]
    },
    {
     "name": "stdout",
     "output_type": "stream",
     "text": [
      "image start and end time is:  18:15:53  to  18:15:55\n",
      "s1,s2:  person24_bacteria_109.jpeg.nrrd  -  person24_bacteria_109.jpeg_mask.nrrd\n",
      "image start time is:  18:15:55\n",
      "/home/yuga/Documents/pyradiomics/pyradiomics-master/notebooks/train/PNEUMONIA/person24_bacteria_109.jpeg.nrrd\n",
      "/home/yuga/Documents/pyradiomics/pyradiomics-master/notebooks/train_PNEUMONIA_mask/person24_bacteria_109.jpeg_mask.nrrd\n"
     ]
    },
    {
     "name": "stderr",
     "output_type": "stream",
     "text": [
      "Shape features are only available 3D input (for 2D input, use shape2D). Found 2D input\n"
     ]
    },
    {
     "name": "stdout",
     "output_type": "stream",
     "text": [
      "image start and end time is:  18:15:55  to  18:15:59\n",
      "s1,s2:  person1_virus_6.jpeg.nrrd  -  person1_virus_6.jpeg_mask.nrrd\n",
      "image start time is:  18:15:59\n",
      "/home/yuga/Documents/pyradiomics/pyradiomics-master/notebooks/train/PNEUMONIA/person1_virus_6.jpeg.nrrd\n",
      "/home/yuga/Documents/pyradiomics/pyradiomics-master/notebooks/train_PNEUMONIA_mask/person1_virus_6.jpeg_mask.nrrd\n"
     ]
    },
    {
     "name": "stderr",
     "output_type": "stream",
     "text": [
      "Shape features are only available 3D input (for 2D input, use shape2D). Found 2D input\n"
     ]
    },
    {
     "name": "stdout",
     "output_type": "stream",
     "text": [
      "image start and end time is:  18:15:59  to  18:16:00\n",
      "s1,s2:  person23_bacteria_91.jpeg.nrrd  -  person23_bacteria_91.jpeg_mask.nrrd\n",
      "image start time is:  18:16:00\n",
      "/home/yuga/Documents/pyradiomics/pyradiomics-master/notebooks/train/PNEUMONIA/person23_bacteria_91.jpeg.nrrd\n",
      "/home/yuga/Documents/pyradiomics/pyradiomics-master/notebooks/train_PNEUMONIA_mask/person23_bacteria_91.jpeg_mask.nrrd\n"
     ]
    },
    {
     "name": "stderr",
     "output_type": "stream",
     "text": [
      "Shape features are only available 3D input (for 2D input, use shape2D). Found 2D input\n"
     ]
    },
    {
     "name": "stdout",
     "output_type": "stream",
     "text": [
      "image start and end time is:  18:16:00  to  18:16:02\n",
      "s1,s2:  person19_bacteria_58.jpeg.nrrd  -  person19_bacteria_58.jpeg_mask.nrrd\n",
      "image start time is:  18:16:02\n",
      "/home/yuga/Documents/pyradiomics/pyradiomics-master/notebooks/train/PNEUMONIA/person19_bacteria_58.jpeg.nrrd\n",
      "/home/yuga/Documents/pyradiomics/pyradiomics-master/notebooks/train_PNEUMONIA_mask/person19_bacteria_58.jpeg_mask.nrrd\n",
      "image start and end time is:  18:16:02  to  18:16:03\n",
      "s1,s2:  person24_bacteria_112.jpeg.nrrd  -  person24_bacteria_112.jpeg_mask.nrrd\n",
      "image start time is:  18:16:03\n",
      "/home/yuga/Documents/pyradiomics/pyradiomics-master/notebooks/train/PNEUMONIA/person24_bacteria_112.jpeg.nrrd\n",
      "/home/yuga/Documents/pyradiomics/pyradiomics-master/notebooks/train_PNEUMONIA_mask/person24_bacteria_112.jpeg_mask.nrrd\n"
     ]
    },
    {
     "name": "stderr",
     "output_type": "stream",
     "text": [
      "Shape features are only available 3D input (for 2D input, use shape2D). Found 2D input\n",
      "Shape features are only available 3D input (for 2D input, use shape2D). Found 2D input\n"
     ]
    },
    {
     "name": "stdout",
     "output_type": "stream",
     "text": [
      "image start and end time is:  18:16:03  to  18:16:07\n",
      "s1,s2:  person23_bacteria_104.jpeg.nrrd  -  person23_bacteria_104.jpeg_mask.nrrd\n",
      "image start time is:  18:16:07\n",
      "/home/yuga/Documents/pyradiomics/pyradiomics-master/notebooks/train/PNEUMONIA/person23_bacteria_104.jpeg.nrrd\n",
      "/home/yuga/Documents/pyradiomics/pyradiomics-master/notebooks/train_PNEUMONIA_mask/person23_bacteria_104.jpeg_mask.nrrd\n"
     ]
    },
    {
     "name": "stderr",
     "output_type": "stream",
     "text": [
      "Shape features are only available 3D input (for 2D input, use shape2D). Found 2D input\n"
     ]
    },
    {
     "name": "stdout",
     "output_type": "stream",
     "text": [
      "image start and end time is:  18:16:07  to  18:16:10\n",
      "s1,s2:  person19_bacteria_61.jpeg.nrrd  -  person19_bacteria_61.jpeg_mask.nrrd\n",
      "image start time is:  18:16:10\n",
      "/home/yuga/Documents/pyradiomics/pyradiomics-master/notebooks/train/PNEUMONIA/person19_bacteria_61.jpeg.nrrd\n",
      "/home/yuga/Documents/pyradiomics/pyradiomics-master/notebooks/train_PNEUMONIA_mask/person19_bacteria_61.jpeg_mask.nrrd\n",
      "image start and end time is:  18:16:10  to  18:16:12\n",
      "s1,s2:  person16_bacteria_53.jpeg.nrrd  -  person16_bacteria_53.jpeg_mask.nrrd\n",
      "image start time is:  18:16:12\n",
      "/home/yuga/Documents/pyradiomics/pyradiomics-master/notebooks/train/PNEUMONIA/person16_bacteria_53.jpeg.nrrd\n",
      "/home/yuga/Documents/pyradiomics/pyradiomics-master/notebooks/train_PNEUMONIA_mask/person16_bacteria_53.jpeg_mask.nrrd\n"
     ]
    },
    {
     "name": "stderr",
     "output_type": "stream",
     "text": [
      "Shape features are only available 3D input (for 2D input, use shape2D). Found 2D input\n",
      "Shape features are only available 3D input (for 2D input, use shape2D). Found 2D input\n"
     ]
    },
    {
     "name": "stdout",
     "output_type": "stream",
     "text": [
      "image start and end time is:  18:16:12  to  18:16:17\n",
      "s1,s2:  person24_bacteria_108.jpeg.nrrd  -  person24_bacteria_108.jpeg_mask.nrrd\n",
      "image start time is:  18:16:17\n",
      "/home/yuga/Documents/pyradiomics/pyradiomics-master/notebooks/train/PNEUMONIA/person24_bacteria_108.jpeg.nrrd\n",
      "/home/yuga/Documents/pyradiomics/pyradiomics-master/notebooks/train_PNEUMONIA_mask/person24_bacteria_108.jpeg_mask.nrrd\n"
     ]
    },
    {
     "name": "stderr",
     "output_type": "stream",
     "text": [
      "Shape features are only available 3D input (for 2D input, use shape2D). Found 2D input\n"
     ]
    },
    {
     "name": "stdout",
     "output_type": "stream",
     "text": [
      "image start and end time is:  18:16:17  to  18:16:20\n",
      "s1,s2:  person23_bacteria_105.jpeg.nrrd  -  person23_bacteria_105.jpeg_mask.nrrd\n",
      "image start time is:  18:16:20\n",
      "/home/yuga/Documents/pyradiomics/pyradiomics-master/notebooks/train/PNEUMONIA/person23_bacteria_105.jpeg.nrrd\n",
      "/home/yuga/Documents/pyradiomics/pyradiomics-master/notebooks/train_PNEUMONIA_mask/person23_bacteria_105.jpeg_mask.nrrd\n",
      "image start and end time is:  18:16:20  to  18:16:23\n",
      "s1,s2:  person2_bacteria_4.jpeg.nrrd  -  person2_bacteria_4.jpeg_mask.nrrd\n",
      "image start time is:  18:16:23\n",
      "/home/yuga/Documents/pyradiomics/pyradiomics-master/notebooks/train/PNEUMONIA/person2_bacteria_4.jpeg.nrrd\n",
      "/home/yuga/Documents/pyradiomics/pyradiomics-master/notebooks/train_PNEUMONIA_mask/person2_bacteria_4.jpeg_mask.nrrd\n"
     ]
    },
    {
     "name": "stderr",
     "output_type": "stream",
     "text": [
      "Shape features are only available 3D input (for 2D input, use shape2D). Found 2D input\n"
     ]
    },
    {
     "name": "stdout",
     "output_type": "stream",
     "text": [
      "image start and end time is:  18:16:23  to  18:16:28\n",
      "s1,s2:  person21_bacteria_72.jpeg.nrrd  -  person21_bacteria_72.jpeg_mask.nrrd\n",
      "image start time is:  18:16:28\n",
      "/home/yuga/Documents/pyradiomics/pyradiomics-master/notebooks/train/PNEUMONIA/person21_bacteria_72.jpeg.nrrd\n",
      "/home/yuga/Documents/pyradiomics/pyradiomics-master/notebooks/train_PNEUMONIA_mask/person21_bacteria_72.jpeg_mask.nrrd\n"
     ]
    },
    {
     "name": "stderr",
     "output_type": "stream",
     "text": [
      "Shape features are only available 3D input (for 2D input, use shape2D). Found 2D input\n"
     ]
    },
    {
     "name": "stdout",
     "output_type": "stream",
     "text": [
      "image start and end time is:  18:16:28  to  18:16:38\n",
      "s1,s2:  person13_bacteria_49.jpeg.nrrd  -  person13_bacteria_49.jpeg_mask.nrrd\n",
      "image start time is:  18:16:38\n",
      "/home/yuga/Documents/pyradiomics/pyradiomics-master/notebooks/train/PNEUMONIA/person13_bacteria_49.jpeg.nrrd\n",
      "/home/yuga/Documents/pyradiomics/pyradiomics-master/notebooks/train_PNEUMONIA_mask/person13_bacteria_49.jpeg_mask.nrrd\n"
     ]
    },
    {
     "name": "stderr",
     "output_type": "stream",
     "text": [
      "Shape features are only available 3D input (for 2D input, use shape2D). Found 2D input\n",
      "Shape features are only available 3D input (for 2D input, use shape2D). Found 2D input\n"
     ]
    },
    {
     "name": "stdout",
     "output_type": "stream",
     "text": [
      "image start and end time is:  18:16:38  to  18:16:46\n",
      "s1,s2:  person1_virus_11.jpeg.nrrd  -  person1_virus_11.jpeg_mask.nrrd\n",
      "image start time is:  18:16:46\n",
      "/home/yuga/Documents/pyradiomics/pyradiomics-master/notebooks/train/PNEUMONIA/person1_virus_11.jpeg.nrrd\n",
      "/home/yuga/Documents/pyradiomics/pyradiomics-master/notebooks/train_PNEUMONIA_mask/person1_virus_11.jpeg_mask.nrrd\n"
     ]
    },
    {
     "name": "stderr",
     "output_type": "stream",
     "text": [
      "Shape features are only available 3D input (for 2D input, use shape2D). Found 2D input\n"
     ]
    },
    {
     "name": "stdout",
     "output_type": "stream",
     "text": [
      "image start and end time is:  18:16:46  to  18:16:48\n",
      "s1,s2:  person8_virus_27.jpeg.nrrd  -  person8_virus_27.jpeg_mask.nrrd\n",
      "image start time is:  18:16:48\n",
      "/home/yuga/Documents/pyradiomics/pyradiomics-master/notebooks/train/PNEUMONIA/person8_virus_27.jpeg.nrrd\n",
      "/home/yuga/Documents/pyradiomics/pyradiomics-master/notebooks/train_PNEUMONIA_mask/person8_virus_27.jpeg_mask.nrrd\n",
      "image start and end time is:  18:16:48  to  18:16:50\n",
      "s1,s2:  person16_virus_47.jpeg.nrrd  -  person16_virus_47.jpeg_mask.nrrd\n",
      "image start time is:  18:16:50\n",
      "/home/yuga/Documents/pyradiomics/pyradiomics-master/notebooks/train/PNEUMONIA/person16_virus_47.jpeg.nrrd\n",
      "/home/yuga/Documents/pyradiomics/pyradiomics-master/notebooks/train_PNEUMONIA_mask/person16_virus_47.jpeg_mask.nrrd\n"
     ]
    },
    {
     "name": "stderr",
     "output_type": "stream",
     "text": [
      "Shape features are only available 3D input (for 2D input, use shape2D). Found 2D input\n",
      "Shape features are only available 3D input (for 2D input, use shape2D). Found 2D input\n"
     ]
    },
    {
     "name": "stdout",
     "output_type": "stream",
     "text": [
      "image start and end time is:  18:16:50  to  18:16:56\n",
      "s1,s2:  person23_bacteria_102.jpeg.nrrd  -  person23_bacteria_102.jpeg_mask.nrrd\n",
      "image start time is:  18:16:56\n",
      "/home/yuga/Documents/pyradiomics/pyradiomics-master/notebooks/train/PNEUMONIA/person23_bacteria_102.jpeg.nrrd\n",
      "/home/yuga/Documents/pyradiomics/pyradiomics-master/notebooks/train_PNEUMONIA_mask/person23_bacteria_102.jpeg_mask.nrrd\n",
      "image start and end time is:  18:16:56  to  18:16:59\n",
      "s1,s2:  person13_bacteria_50.jpeg.nrrd  -  person13_bacteria_50.jpeg_mask.nrrd\n",
      "image start time is:  18:16:59\n",
      "/home/yuga/Documents/pyradiomics/pyradiomics-master/notebooks/train/PNEUMONIA/person13_bacteria_50.jpeg.nrrd\n",
      "/home/yuga/Documents/pyradiomics/pyradiomics-master/notebooks/train_PNEUMONIA_mask/person13_bacteria_50.jpeg_mask.nrrd\n"
     ]
    },
    {
     "name": "stderr",
     "output_type": "stream",
     "text": [
      "Shape features are only available 3D input (for 2D input, use shape2D). Found 2D input\n"
     ]
    },
    {
     "name": "stdout",
     "output_type": "stream",
     "text": [
      "image start and end time is:  18:16:59  to  18:17:07\n",
      "s1,s2:  person12_bacteria_46.jpeg.nrrd  -  person12_bacteria_46.jpeg_mask.nrrd\n",
      "image start time is:  18:17:07\n",
      "/home/yuga/Documents/pyradiomics/pyradiomics-master/notebooks/train/PNEUMONIA/person12_bacteria_46.jpeg.nrrd\n",
      "/home/yuga/Documents/pyradiomics/pyradiomics-master/notebooks/train_PNEUMONIA_mask/person12_bacteria_46.jpeg_mask.nrrd\n"
     ]
    },
    {
     "name": "stderr",
     "output_type": "stream",
     "text": [
      "Shape features are only available 3D input (for 2D input, use shape2D). Found 2D input\n",
      "Shape features are only available 3D input (for 2D input, use shape2D). Found 2D input\n"
     ]
    },
    {
     "name": "stdout",
     "output_type": "stream",
     "text": [
      "image start and end time is:  18:17:07  to  18:17:14\n",
      "s1,s2:  person23_bacteria_100.jpeg.nrrd  -  person23_bacteria_100.jpeg_mask.nrrd\n",
      "image start time is:  18:17:14\n",
      "/home/yuga/Documents/pyradiomics/pyradiomics-master/notebooks/train/PNEUMONIA/person23_bacteria_100.jpeg.nrrd\n",
      "/home/yuga/Documents/pyradiomics/pyradiomics-master/notebooks/train_PNEUMONIA_mask/person23_bacteria_100.jpeg_mask.nrrd\n",
      "image start and end time is:  18:17:14  to  18:17:17\n",
      "s1,s2:  person15_virus_46.jpeg.nrrd  -  person15_virus_46.jpeg_mask.nrrd\n",
      "image start time is:  18:17:17\n",
      "/home/yuga/Documents/pyradiomics/pyradiomics-master/notebooks/train/PNEUMONIA/person15_virus_46.jpeg.nrrd\n",
      "/home/yuga/Documents/pyradiomics/pyradiomics-master/notebooks/train_PNEUMONIA_mask/person15_virus_46.jpeg_mask.nrrd\n"
     ]
    },
    {
     "name": "stderr",
     "output_type": "stream",
     "text": [
      "Shape features are only available 3D input (for 2D input, use shape2D). Found 2D input\n",
      "Shape features are only available 3D input (for 2D input, use shape2D). Found 2D input\n"
     ]
    },
    {
     "name": "stdout",
     "output_type": "stream",
     "text": [
      "image start and end time is:  18:17:17  to  18:17:21\n",
      "s1,s2:  person19_bacteria_63.jpeg.nrrd  -  person19_bacteria_63.jpeg_mask.nrrd\n",
      "image start time is:  18:17:21\n",
      "/home/yuga/Documents/pyradiomics/pyradiomics-master/notebooks/train/PNEUMONIA/person19_bacteria_63.jpeg.nrrd\n",
      "/home/yuga/Documents/pyradiomics/pyradiomics-master/notebooks/train_PNEUMONIA_mask/person19_bacteria_63.jpeg_mask.nrrd\n"
     ]
    },
    {
     "name": "stderr",
     "output_type": "stream",
     "text": [
      "Shape features are only available 3D input (for 2D input, use shape2D). Found 2D input\n"
     ]
    },
    {
     "name": "stdout",
     "output_type": "stream",
     "text": [
      "image start and end time is:  18:17:21  to  18:17:24\n",
      "s1,s2:  person23_bacteria_106.jpeg.nrrd  -  person23_bacteria_106.jpeg_mask.nrrd\n",
      "image start time is:  18:17:24\n",
      "/home/yuga/Documents/pyradiomics/pyradiomics-master/notebooks/train/PNEUMONIA/person23_bacteria_106.jpeg.nrrd\n",
      "/home/yuga/Documents/pyradiomics/pyradiomics-master/notebooks/train_PNEUMONIA_mask/person23_bacteria_106.jpeg_mask.nrrd\n",
      "image start and end time is:  18:17:24  to  18:17:26\n",
      "s1,s2:  person16_bacteria_55.jpeg.nrrd  -  person16_bacteria_55.jpeg_mask.nrrd\n",
      "image start time is:  18:17:26\n",
      "/home/yuga/Documents/pyradiomics/pyradiomics-master/notebooks/train/PNEUMONIA/person16_bacteria_55.jpeg.nrrd\n",
      "/home/yuga/Documents/pyradiomics/pyradiomics-master/notebooks/train_PNEUMONIA_mask/person16_bacteria_55.jpeg_mask.nrrd\n"
     ]
    },
    {
     "name": "stderr",
     "output_type": "stream",
     "text": [
      "Shape features are only available 3D input (for 2D input, use shape2D). Found 2D input\n",
      "Shape features are only available 3D input (for 2D input, use shape2D). Found 2D input\n"
     ]
    },
    {
     "name": "stdout",
     "output_type": "stream",
     "text": [
      "image start and end time is:  18:17:26  to  18:17:30\n",
      "s1,s2:  person23_bacteria_89.jpeg.nrrd  -  person23_bacteria_89.jpeg_mask.nrrd\n",
      "image start time is:  18:17:30\n",
      "/home/yuga/Documents/pyradiomics/pyradiomics-master/notebooks/train/PNEUMONIA/person23_bacteria_89.jpeg.nrrd\n",
      "/home/yuga/Documents/pyradiomics/pyradiomics-master/notebooks/train_PNEUMONIA_mask/person23_bacteria_89.jpeg_mask.nrrd\n"
     ]
    },
    {
     "name": "stderr",
     "output_type": "stream",
     "text": [
      "Shape features are only available 3D input (for 2D input, use shape2D). Found 2D input\n"
     ]
    },
    {
     "name": "stdout",
     "output_type": "stream",
     "text": [
      "image start and end time is:  18:17:30  to  18:17:32\n",
      "s1,s2:  person3_bacteria_11.jpeg.nrrd  -  person3_bacteria_11.jpeg_mask.nrrd\n",
      "image start time is:  18:17:32\n",
      "/home/yuga/Documents/pyradiomics/pyradiomics-master/notebooks/train/PNEUMONIA/person3_bacteria_11.jpeg.nrrd\n",
      "/home/yuga/Documents/pyradiomics/pyradiomics-master/notebooks/train_PNEUMONIA_mask/person3_bacteria_11.jpeg_mask.nrrd\n"
     ]
    },
    {
     "name": "stderr",
     "output_type": "stream",
     "text": [
      "Shape features are only available 3D input (for 2D input, use shape2D). Found 2D input\n"
     ]
    },
    {
     "name": "stdout",
     "output_type": "stream",
     "text": [
      "image start and end time is:  18:17:32  to  18:17:36\n",
      "s1,s2:  person8_virus_28.jpeg.nrrd  -  person8_virus_28.jpeg_mask.nrrd\n",
      "image start time is:  18:17:36\n",
      "/home/yuga/Documents/pyradiomics/pyradiomics-master/notebooks/train/PNEUMONIA/person8_virus_28.jpeg.nrrd\n",
      "/home/yuga/Documents/pyradiomics/pyradiomics-master/notebooks/train_PNEUMONIA_mask/person8_virus_28.jpeg_mask.nrrd\n",
      "image start and end time is:  18:17:36  to  18:17:38\n",
      "s1,s2:  person7_bacteria_24.jpeg.nrrd  -  person7_bacteria_24.jpeg_mask.nrrd\n",
      "image start time is:  18:17:38\n",
      "/home/yuga/Documents/pyradiomics/pyradiomics-master/notebooks/train/PNEUMONIA/person7_bacteria_24.jpeg.nrrd\n",
      "/home/yuga/Documents/pyradiomics/pyradiomics-master/notebooks/train_PNEUMONIA_mask/person7_bacteria_24.jpeg_mask.nrrd\n"
     ]
    },
    {
     "name": "stderr",
     "output_type": "stream",
     "text": [
      "Shape features are only available 3D input (for 2D input, use shape2D). Found 2D input\n",
      "Shape features are only available 3D input (for 2D input, use shape2D). Found 2D input\n"
     ]
    },
    {
     "name": "stdout",
     "output_type": "stream",
     "text": [
      "image start and end time is:  18:17:38  to  18:17:42\n",
      "s1,s2:  person19_bacteria_62.jpeg.nrrd  -  person19_bacteria_62.jpeg_mask.nrrd\n",
      "image start time is:  18:17:42\n",
      "/home/yuga/Documents/pyradiomics/pyradiomics-master/notebooks/train/PNEUMONIA/person19_bacteria_62.jpeg.nrrd\n",
      "/home/yuga/Documents/pyradiomics/pyradiomics-master/notebooks/train_PNEUMONIA_mask/person19_bacteria_62.jpeg_mask.nrrd\n"
     ]
    },
    {
     "name": "stderr",
     "output_type": "stream",
     "text": [
      "Shape features are only available 3D input (for 2D input, use shape2D). Found 2D input\n"
     ]
    },
    {
     "name": "stdout",
     "output_type": "stream",
     "text": [
      "image start and end time is:  18:17:42  to  18:17:44\n",
      "s1,s2:  person19_bacteria_59.jpeg.nrrd  -  person19_bacteria_59.jpeg_mask.nrrd\n",
      "image start time is:  18:17:44\n",
      "/home/yuga/Documents/pyradiomics/pyradiomics-master/notebooks/train/PNEUMONIA/person19_bacteria_59.jpeg.nrrd\n",
      "/home/yuga/Documents/pyradiomics/pyradiomics-master/notebooks/train_PNEUMONIA_mask/person19_bacteria_59.jpeg_mask.nrrd\n"
     ]
    },
    {
     "name": "stderr",
     "output_type": "stream",
     "text": [
      "Shape features are only available 3D input (for 2D input, use shape2D). Found 2D input\n"
     ]
    },
    {
     "name": "stdout",
     "output_type": "stream",
     "text": [
      "image start and end time is:  18:17:44  to  18:17:46\n",
      "s1,s2:  person23_bacteria_81.jpeg.nrrd  -  person23_bacteria_81.jpeg_mask.nrrd\n",
      "image start time is:  18:17:46\n",
      "/home/yuga/Documents/pyradiomics/pyradiomics-master/notebooks/train/PNEUMONIA/person23_bacteria_81.jpeg.nrrd\n",
      "/home/yuga/Documents/pyradiomics/pyradiomics-master/notebooks/train_PNEUMONIA_mask/person23_bacteria_81.jpeg_mask.nrrd\n"
     ]
    },
    {
     "name": "stderr",
     "output_type": "stream",
     "text": [
      "Shape features are only available 3D input (for 2D input, use shape2D). Found 2D input\n"
     ]
    },
    {
     "name": "stdout",
     "output_type": "stream",
     "text": [
      "image start and end time is:  18:17:46  to  18:17:49\n",
      "s1,s2:  person1_bacteria_2.jpeg.nrrd  -  person1_bacteria_2.jpeg_mask.nrrd\n",
      "image start time is:  18:17:49\n",
      "/home/yuga/Documents/pyradiomics/pyradiomics-master/notebooks/train/PNEUMONIA/person1_bacteria_2.jpeg.nrrd\n",
      "/home/yuga/Documents/pyradiomics/pyradiomics-master/notebooks/train_PNEUMONIA_mask/person1_bacteria_2.jpeg_mask.nrrd\n"
     ]
    },
    {
     "name": "stderr",
     "output_type": "stream",
     "text": [
      "Shape features are only available 3D input (for 2D input, use shape2D). Found 2D input\n"
     ]
    },
    {
     "name": "stdout",
     "output_type": "stream",
     "text": [
      "image start and end time is:  18:17:49  to  18:17:52\n",
      "s1,s2:  person3_virus_15.jpeg.nrrd  -  person3_virus_15.jpeg_mask.nrrd\n",
      "image start time is:  18:17:52\n",
      "/home/yuga/Documents/pyradiomics/pyradiomics-master/notebooks/train/PNEUMONIA/person3_virus_15.jpeg.nrrd\n",
      "/home/yuga/Documents/pyradiomics/pyradiomics-master/notebooks/train_PNEUMONIA_mask/person3_virus_15.jpeg_mask.nrrd\n",
      "image start and end time is:  18:17:52  to  18:17:57\n",
      "s1,s2:  person8_bacteria_37.jpeg.nrrd  -  person8_bacteria_37.jpeg_mask.nrrd\n",
      "image start time is:  18:17:57\n",
      "/home/yuga/Documents/pyradiomics/pyradiomics-master/notebooks/train/PNEUMONIA/person8_bacteria_37.jpeg.nrrd\n",
      "/home/yuga/Documents/pyradiomics/pyradiomics-master/notebooks/train_PNEUMONIA_mask/person8_bacteria_37.jpeg_mask.nrrd\n"
     ]
    },
    {
     "name": "stderr",
     "output_type": "stream",
     "text": [
      "Shape features are only available 3D input (for 2D input, use shape2D). Found 2D input\n",
      "Shape features are only available 3D input (for 2D input, use shape2D). Found 2D input\n"
     ]
    },
    {
     "name": "stdout",
     "output_type": "stream",
     "text": [
      "image start and end time is:  18:17:57  to  18:18:05\n",
      "s1,s2:  person17_virus_48.jpeg.nrrd  -  person17_virus_48.jpeg_mask.nrrd\n",
      "image start time is:  18:18:05\n",
      "/home/yuga/Documents/pyradiomics/pyradiomics-master/notebooks/train/PNEUMONIA/person17_virus_48.jpeg.nrrd\n",
      "/home/yuga/Documents/pyradiomics/pyradiomics-master/notebooks/train_PNEUMONIA_mask/person17_virus_48.jpeg_mask.nrrd\n",
      "image start and end time is:  18:18:05  to  18:18:09\n",
      "s1,s2:  person3_bacteria_12.jpeg.nrrd  -  person3_bacteria_12.jpeg_mask.nrrd\n",
      "image start time is:  18:18:09\n",
      "/home/yuga/Documents/pyradiomics/pyradiomics-master/notebooks/train/PNEUMONIA/person3_bacteria_12.jpeg.nrrd\n",
      "/home/yuga/Documents/pyradiomics/pyradiomics-master/notebooks/train_PNEUMONIA_mask/person3_bacteria_12.jpeg_mask.nrrd\n"
     ]
    },
    {
     "name": "stderr",
     "output_type": "stream",
     "text": [
      "Shape features are only available 3D input (for 2D input, use shape2D). Found 2D input\n"
     ]
    },
    {
     "name": "stdout",
     "output_type": "stream",
     "text": [
      "image start and end time is:  18:18:09  to  18:18:16\n",
      "s1,s2:  person11_virus_38.jpeg.nrrd  -  person11_virus_38.jpeg_mask.nrrd\n",
      "image start time is:  18:18:16\n",
      "/home/yuga/Documents/pyradiomics/pyradiomics-master/notebooks/train/PNEUMONIA/person11_virus_38.jpeg.nrrd\n",
      "/home/yuga/Documents/pyradiomics/pyradiomics-master/notebooks/train_PNEUMONIA_mask/person11_virus_38.jpeg_mask.nrrd\n"
     ]
    },
    {
     "name": "stderr",
     "output_type": "stream",
     "text": [
      "Shape features are only available 3D input (for 2D input, use shape2D). Found 2D input\n",
      "Shape features are only available 3D input (for 2D input, use shape2D). Found 2D input\n"
     ]
    },
    {
     "name": "stdout",
     "output_type": "stream",
     "text": [
      "image start and end time is:  18:18:16  to  18:18:20\n",
      "s1,s2:  person22_bacteria_76.jpeg.nrrd  -  person22_bacteria_76.jpeg_mask.nrrd\n",
      "image start time is:  18:18:20\n",
      "/home/yuga/Documents/pyradiomics/pyradiomics-master/notebooks/train/PNEUMONIA/person22_bacteria_76.jpeg.nrrd\n",
      "/home/yuga/Documents/pyradiomics/pyradiomics-master/notebooks/train_PNEUMONIA_mask/person22_bacteria_76.jpeg_mask.nrrd\n",
      "image start and end time is:  18:18:20  to  18:18:25\n",
      "s1,s2:  person21_bacteria_73.jpeg.nrrd  -  person21_bacteria_73.jpeg_mask.nrrd\n",
      "image start time is:  18:18:25\n",
      "/home/yuga/Documents/pyradiomics/pyradiomics-master/notebooks/train/PNEUMONIA/person21_bacteria_73.jpeg.nrrd\n",
      "/home/yuga/Documents/pyradiomics/pyradiomics-master/notebooks/train_PNEUMONIA_mask/person21_bacteria_73.jpeg_mask.nrrd\n"
     ]
    },
    {
     "name": "stderr",
     "output_type": "stream",
     "text": [
      "Shape features are only available 3D input (for 2D input, use shape2D). Found 2D input\n"
     ]
    },
    {
     "name": "stdout",
     "output_type": "stream",
     "text": [
      "image start and end time is:  18:18:25  to  18:18:36\n",
      "s1,s2:  person23_bacteria_80.jpeg.nrrd  -  person23_bacteria_80.jpeg_mask.nrrd\n",
      "image start time is:  18:18:36\n",
      "/home/yuga/Documents/pyradiomics/pyradiomics-master/notebooks/train/PNEUMONIA/person23_bacteria_80.jpeg.nrrd\n",
      "/home/yuga/Documents/pyradiomics/pyradiomics-master/notebooks/train_PNEUMONIA_mask/person23_bacteria_80.jpeg_mask.nrrd\n"
     ]
    },
    {
     "name": "stderr",
     "output_type": "stream",
     "text": [
      "Shape features are only available 3D input (for 2D input, use shape2D). Found 2D input\n"
     ]
    },
    {
     "name": "stdout",
     "output_type": "stream",
     "text": [
      "image start and end time is:  18:18:36  to  18:18:42\n",
      "s1,s2:  person24_virus_58.jpeg.nrrd  -  person24_virus_58.jpeg_mask.nrrd\n",
      "image start time is:  18:18:42\n",
      "/home/yuga/Documents/pyradiomics/pyradiomics-master/notebooks/train/PNEUMONIA/person24_virus_58.jpeg.nrrd\n",
      "/home/yuga/Documents/pyradiomics/pyradiomics-master/notebooks/train_PNEUMONIA_mask/person24_virus_58.jpeg_mask.nrrd\n"
     ]
    },
    {
     "name": "stderr",
     "output_type": "stream",
     "text": [
      "Shape features are only available 3D input (for 2D input, use shape2D). Found 2D input\n"
     ]
    },
    {
     "name": "stdout",
     "output_type": "stream",
     "text": [
      "image start and end time is:  18:18:42  to  18:18:46\n",
      "s1,s2:  person17_bacteria_56.jpeg.nrrd  -  person17_bacteria_56.jpeg_mask.nrrd\n",
      "image start time is:  18:18:46\n",
      "/home/yuga/Documents/pyradiomics/pyradiomics-master/notebooks/train/PNEUMONIA/person17_bacteria_56.jpeg.nrrd\n",
      "/home/yuga/Documents/pyradiomics/pyradiomics-master/notebooks/train_PNEUMONIA_mask/person17_bacteria_56.jpeg_mask.nrrd\n"
     ]
    },
    {
     "name": "stderr",
     "output_type": "stream",
     "text": [
      "Shape features are only available 3D input (for 2D input, use shape2D). Found 2D input\n",
      "Shape features are only available 3D input (for 2D input, use shape2D). Found 2D input\n"
     ]
    },
    {
     "name": "stdout",
     "output_type": "stream",
     "text": [
      "image start and end time is:  18:18:46  to  18:18:51\n",
      "s1,s2:  person25_bacteria_113.jpeg.nrrd  -  person25_bacteria_113.jpeg_mask.nrrd\n",
      "image start time is:  18:18:51\n",
      "/home/yuga/Documents/pyradiomics/pyradiomics-master/notebooks/train/PNEUMONIA/person25_bacteria_113.jpeg.nrrd\n",
      "/home/yuga/Documents/pyradiomics/pyradiomics-master/notebooks/train_PNEUMONIA_mask/person25_bacteria_113.jpeg_mask.nrrd\n"
     ]
    },
    {
     "name": "stderr",
     "output_type": "stream",
     "text": [
      "Shape features are only available 3D input (for 2D input, use shape2D). Found 2D input\n"
     ]
    },
    {
     "name": "stdout",
     "output_type": "stream",
     "text": [
      "image start and end time is:  18:18:51  to  18:18:53\n",
      "s1,s2:  person23_bacteria_87.jpeg.nrrd  -  person23_bacteria_87.jpeg_mask.nrrd\n",
      "image start time is:  18:18:53\n",
      "/home/yuga/Documents/pyradiomics/pyradiomics-master/notebooks/train/PNEUMONIA/person23_bacteria_87.jpeg.nrrd\n",
      "/home/yuga/Documents/pyradiomics/pyradiomics-master/notebooks/train_PNEUMONIA_mask/person23_bacteria_87.jpeg_mask.nrrd\n",
      "image start and end time is:  18:18:53  to  18:18:57\n",
      "s1,s2:  person3_bacteria_10.jpeg.nrrd  -  person3_bacteria_10.jpeg_mask.nrrd\n",
      "image start time is:  18:18:57\n",
      "/home/yuga/Documents/pyradiomics/pyradiomics-master/notebooks/train/PNEUMONIA/person3_bacteria_10.jpeg.nrrd\n",
      "/home/yuga/Documents/pyradiomics/pyradiomics-master/notebooks/train_PNEUMONIA_mask/person3_bacteria_10.jpeg_mask.nrrd\n"
     ]
    },
    {
     "name": "stderr",
     "output_type": "stream",
     "text": [
      "Shape features are only available 3D input (for 2D input, use shape2D). Found 2D input\n"
     ]
    },
    {
     "name": "stdout",
     "output_type": "stream",
     "text": [
      "image start and end time is:  18:18:57  to  18:19:02\n",
      "s1,s2:  person10_virus_35.jpeg.nrrd  -  person10_virus_35.jpeg_mask.nrrd\n",
      "image start time is:  18:19:02\n",
      "/home/yuga/Documents/pyradiomics/pyradiomics-master/notebooks/train/PNEUMONIA/person10_virus_35.jpeg.nrrd\n",
      "/home/yuga/Documents/pyradiomics/pyradiomics-master/notebooks/train_PNEUMONIA_mask/person10_virus_35.jpeg_mask.nrrd\n"
     ]
    },
    {
     "name": "stderr",
     "output_type": "stream",
     "text": [
      "Shape features are only available 3D input (for 2D input, use shape2D). Found 2D input\n"
     ]
    },
    {
     "name": "stdout",
     "output_type": "stream",
     "text": [
      "image start and end time is:  18:19:02  to  18:19:09\n",
      "s1,s2:  person23_bacteria_99.jpeg.nrrd  -  person23_bacteria_99.jpeg_mask.nrrd\n",
      "image start time is:  18:19:09\n",
      "/home/yuga/Documents/pyradiomics/pyradiomics-master/notebooks/train/PNEUMONIA/person23_bacteria_99.jpeg.nrrd\n",
      "/home/yuga/Documents/pyradiomics/pyradiomics-master/notebooks/train_PNEUMONIA_mask/person23_bacteria_99.jpeg_mask.nrrd\n"
     ]
    },
    {
     "name": "stderr",
     "output_type": "stream",
     "text": [
      "Shape features are only available 3D input (for 2D input, use shape2D). Found 2D input\n"
     ]
    },
    {
     "name": "stdout",
     "output_type": "stream",
     "text": [
      "image start and end time is:  18:19:09  to  18:19:12\n",
      "s1,s2:  person21_virus_52.jpeg.nrrd  -  person21_virus_52.jpeg_mask.nrrd\n",
      "image start time is:  18:19:12\n",
      "/home/yuga/Documents/pyradiomics/pyradiomics-master/notebooks/train/PNEUMONIA/person21_virus_52.jpeg.nrrd\n",
      "/home/yuga/Documents/pyradiomics/pyradiomics-master/notebooks/train_PNEUMONIA_mask/person21_virus_52.jpeg_mask.nrrd\n"
     ]
    },
    {
     "name": "stderr",
     "output_type": "stream",
     "text": [
      "Shape features are only available 3D input (for 2D input, use shape2D). Found 2D input\n",
      "Shape features are only available 3D input (for 2D input, use shape2D). Found 2D input\n"
     ]
    },
    {
     "name": "stdout",
     "output_type": "stream",
     "text": [
      "image start and end time is:  18:19:12  to  18:19:22\n",
      "s1,s2:  person23_bacteria_98.jpeg.nrrd  -  person23_bacteria_98.jpeg_mask.nrrd\n",
      "image start time is:  18:19:22\n",
      "/home/yuga/Documents/pyradiomics/pyradiomics-master/notebooks/train/PNEUMONIA/person23_bacteria_98.jpeg.nrrd\n",
      "/home/yuga/Documents/pyradiomics/pyradiomics-master/notebooks/train_PNEUMONIA_mask/person23_bacteria_98.jpeg_mask.nrrd\n",
      "image start and end time is:  18:19:22  to  18:19:25\n",
      "s1,s2:  person3_bacteria_13.jpeg.nrrd  -  person3_bacteria_13.jpeg_mask.nrrd\n",
      "image start time is:  18:19:25\n",
      "/home/yuga/Documents/pyradiomics/pyradiomics-master/notebooks/train/PNEUMONIA/person3_bacteria_13.jpeg.nrrd\n",
      "/home/yuga/Documents/pyradiomics/pyradiomics-master/notebooks/train_PNEUMONIA_mask/person3_bacteria_13.jpeg_mask.nrrd\n"
     ]
    },
    {
     "name": "stderr",
     "output_type": "stream",
     "text": [
      "Shape features are only available 3D input (for 2D input, use shape2D). Found 2D input\n"
     ]
    },
    {
     "name": "stdout",
     "output_type": "stream",
     "text": [
      "image start and end time is:  18:19:25  to  18:19:32\n",
      "s1,s2:  person5_bacteria_15.jpeg.nrrd  -  person5_bacteria_15.jpeg_mask.nrrd\n",
      "image start time is:  18:19:32\n",
      "/home/yuga/Documents/pyradiomics/pyradiomics-master/notebooks/train/PNEUMONIA/person5_bacteria_15.jpeg.nrrd\n",
      "/home/yuga/Documents/pyradiomics/pyradiomics-master/notebooks/train_PNEUMONIA_mask/person5_bacteria_15.jpeg_mask.nrrd\n"
     ]
    },
    {
     "name": "stderr",
     "output_type": "stream",
     "text": [
      "Shape features are only available 3D input (for 2D input, use shape2D). Found 2D input\n"
     ]
    },
    {
     "name": "stdout",
     "output_type": "stream",
     "text": [
      "image start and end time is:  18:19:32  to  18:19:36\n",
      "s1,s2:  person10_bacteria_43.jpeg.nrrd  -  person10_bacteria_43.jpeg_mask.nrrd\n",
      "image start time is:  18:19:36\n",
      "/home/yuga/Documents/pyradiomics/pyradiomics-master/notebooks/train/PNEUMONIA/person10_bacteria_43.jpeg.nrrd\n",
      "/home/yuga/Documents/pyradiomics/pyradiomics-master/notebooks/train_PNEUMONIA_mask/person10_bacteria_43.jpeg_mask.nrrd\n"
     ]
    },
    {
     "name": "stderr",
     "output_type": "stream",
     "text": [
      "Shape features are only available 3D input (for 2D input, use shape2D). Found 2D input\n",
      "Shape features are only available 3D input (for 2D input, use shape2D). Found 2D input\n"
     ]
    },
    {
     "name": "stdout",
     "output_type": "stream",
     "text": [
      "image start and end time is:  18:19:36  to  18:19:39\n",
      "s1,s2:  person5_bacteria_19.jpeg.nrrd  -  person5_bacteria_19.jpeg_mask.nrrd\n",
      "image start time is:  18:19:39\n",
      "/home/yuga/Documents/pyradiomics/pyradiomics-master/notebooks/train/PNEUMONIA/person5_bacteria_19.jpeg.nrrd\n",
      "/home/yuga/Documents/pyradiomics/pyradiomics-master/notebooks/train_PNEUMONIA_mask/person5_bacteria_19.jpeg_mask.nrrd\n"
     ]
    },
    {
     "name": "stderr",
     "output_type": "stream",
     "text": [
      "Shape features are only available 3D input (for 2D input, use shape2D). Found 2D input\n"
     ]
    },
    {
     "name": "stdout",
     "output_type": "stream",
     "text": [
      "image start and end time is:  18:19:39  to  18:19:42\n",
      "s1,s2:  person23_bacteria_86.jpeg.nrrd  -  person23_bacteria_86.jpeg_mask.nrrd\n",
      "image start time is:  18:19:42\n",
      "/home/yuga/Documents/pyradiomics/pyradiomics-master/notebooks/train/PNEUMONIA/person23_bacteria_86.jpeg.nrrd\n",
      "/home/yuga/Documents/pyradiomics/pyradiomics-master/notebooks/train_PNEUMONIA_mask/person23_bacteria_86.jpeg_mask.nrrd\n",
      "image start and end time is:  18:19:42  to  18:19:45\n",
      "s1,s2:  person16_bacteria_54.jpeg.nrrd  -  person16_bacteria_54.jpeg_mask.nrrd\n",
      "image start time is:  18:19:45\n",
      "/home/yuga/Documents/pyradiomics/pyradiomics-master/notebooks/train/PNEUMONIA/person16_bacteria_54.jpeg.nrrd\n",
      "/home/yuga/Documents/pyradiomics/pyradiomics-master/notebooks/train_PNEUMONIA_mask/person16_bacteria_54.jpeg_mask.nrrd\n"
     ]
    },
    {
     "name": "stderr",
     "output_type": "stream",
     "text": [
      "Shape features are only available 3D input (for 2D input, use shape2D). Found 2D input\n",
      "Shape features are only available 3D input (for 2D input, use shape2D). Found 2D input\n"
     ]
    },
    {
     "name": "stdout",
     "output_type": "stream",
     "text": [
      "image start and end time is:  18:19:45  to  18:19:50\n",
      "s1,s2:  person23_bacteria_103.jpeg.nrrd  -  person23_bacteria_103.jpeg_mask.nrrd\n",
      "image start time is:  18:19:50\n",
      "/home/yuga/Documents/pyradiomics/pyradiomics-master/notebooks/train/PNEUMONIA/person23_bacteria_103.jpeg.nrrd\n",
      "/home/yuga/Documents/pyradiomics/pyradiomics-master/notebooks/train_PNEUMONIA_mask/person23_bacteria_103.jpeg_mask.nrrd\n",
      "image start and end time is:  18:19:50  to  18:19:53\n",
      "s1,s2:  person2_bacteria_3.jpeg.nrrd  -  person2_bacteria_3.jpeg_mask.nrrd\n",
      "image start time is:  18:19:53\n",
      "/home/yuga/Documents/pyradiomics/pyradiomics-master/notebooks/train/PNEUMONIA/person2_bacteria_3.jpeg.nrrd\n",
      "/home/yuga/Documents/pyradiomics/pyradiomics-master/notebooks/train_PNEUMONIA_mask/person2_bacteria_3.jpeg_mask.nrrd\n"
     ]
    },
    {
     "name": "stderr",
     "output_type": "stream",
     "text": [
      "Shape features are only available 3D input (for 2D input, use shape2D). Found 2D input\n",
      "Shape features are only available 3D input (for 2D input, use shape2D). Found 2D input\n"
     ]
    },
    {
     "name": "stdout",
     "output_type": "stream",
     "text": [
      "image start and end time is:  18:19:53  to  18:19:58\n",
      "s1,s2:  person20_bacteria_66.jpeg.nrrd  -  person20_bacteria_66.jpeg_mask.nrrd\n",
      "image start time is:  18:19:58\n",
      "/home/yuga/Documents/pyradiomics/pyradiomics-master/notebooks/train/PNEUMONIA/person20_bacteria_66.jpeg.nrrd\n",
      "/home/yuga/Documents/pyradiomics/pyradiomics-master/notebooks/train_PNEUMONIA_mask/person20_bacteria_66.jpeg_mask.nrrd\n",
      "image start and end time is:  18:19:58  to  18:20:00\n",
      "s1,s2:  person3_virus_17.jpeg.nrrd  -  person3_virus_17.jpeg_mask.nrrd\n",
      "image start time is:  18:20:00\n",
      "/home/yuga/Documents/pyradiomics/pyradiomics-master/notebooks/train/PNEUMONIA/person3_virus_17.jpeg.nrrd\n",
      "/home/yuga/Documents/pyradiomics/pyradiomics-master/notebooks/train_PNEUMONIA_mask/person3_virus_17.jpeg_mask.nrrd\n"
     ]
    },
    {
     "name": "stderr",
     "output_type": "stream",
     "text": [
      "Shape features are only available 3D input (for 2D input, use shape2D). Found 2D input\n",
      "Shape features are only available 3D input (for 2D input, use shape2D). Found 2D input\n"
     ]
    },
    {
     "name": "stdout",
     "output_type": "stream",
     "text": [
      "image start and end time is:  18:20:00  to  18:20:05\n",
      "s1,s2:  person23_bacteria_95.jpeg.nrrd  -  person23_bacteria_95.jpeg_mask.nrrd\n",
      "image start time is:  18:20:05\n",
      "/home/yuga/Documents/pyradiomics/pyradiomics-master/notebooks/train/PNEUMONIA/person23_bacteria_95.jpeg.nrrd\n",
      "/home/yuga/Documents/pyradiomics/pyradiomics-master/notebooks/train_PNEUMONIA_mask/person23_bacteria_95.jpeg_mask.nrrd\n",
      "image start and end time is:  18:20:05  to  18:20:08\n",
      "s1,s2:  person19_virus_50.jpeg.nrrd  -  person19_virus_50.jpeg_mask.nrrd\n",
      "image start time is:  18:20:08\n",
      "/home/yuga/Documents/pyradiomics/pyradiomics-master/notebooks/train/PNEUMONIA/person19_virus_50.jpeg.nrrd\n",
      "/home/yuga/Documents/pyradiomics/pyradiomics-master/notebooks/train_PNEUMONIA_mask/person19_virus_50.jpeg_mask.nrrd\n"
     ]
    },
    {
     "name": "stderr",
     "output_type": "stream",
     "text": [
      "Shape features are only available 3D input (for 2D input, use shape2D). Found 2D input\n",
      "Shape features are only available 3D input (for 2D input, use shape2D). Found 2D input\n"
     ]
    },
    {
     "name": "stdout",
     "output_type": "stream",
     "text": [
      "image start and end time is:  18:20:08  to  18:20:12\n",
      "s1,s2:  person1_virus_9.jpeg.nrrd  -  person1_virus_9.jpeg_mask.nrrd\n",
      "image start time is:  18:20:12\n",
      "/home/yuga/Documents/pyradiomics/pyradiomics-master/notebooks/train/PNEUMONIA/person1_virus_9.jpeg.nrrd\n",
      "/home/yuga/Documents/pyradiomics/pyradiomics-master/notebooks/train_PNEUMONIA_mask/person1_virus_9.jpeg_mask.nrrd\n"
     ]
    },
    {
     "name": "stderr",
     "output_type": "stream",
     "text": [
      "Shape features are only available 3D input (for 2D input, use shape2D). Found 2D input\n"
     ]
    },
    {
     "name": "stdout",
     "output_type": "stream",
     "text": [
      "image start and end time is:  18:20:12  to  18:20:14\n",
      "s1,s2:  person9_bacteria_41.jpeg.nrrd  -  person9_bacteria_41.jpeg_mask.nrrd\n",
      "image start time is:  18:20:14\n",
      "/home/yuga/Documents/pyradiomics/pyradiomics-master/notebooks/train/PNEUMONIA/person9_bacteria_41.jpeg.nrrd\n",
      "/home/yuga/Documents/pyradiomics/pyradiomics-master/notebooks/train_PNEUMONIA_mask/person9_bacteria_41.jpeg_mask.nrrd\n"
     ]
    },
    {
     "name": "stderr",
     "output_type": "stream",
     "text": [
      "Shape features are only available 3D input (for 2D input, use shape2D). Found 2D input\n"
     ]
    },
    {
     "name": "stdout",
     "output_type": "stream",
     "text": [
      "image start and end time is:  18:20:14  to  18:20:17\n",
      "s1,s2:  person5_bacteria_16.jpeg.nrrd  -  person5_bacteria_16.jpeg_mask.nrrd\n",
      "image start time is:  18:20:17\n",
      "/home/yuga/Documents/pyradiomics/pyradiomics-master/notebooks/train/PNEUMONIA/person5_bacteria_16.jpeg.nrrd\n",
      "/home/yuga/Documents/pyradiomics/pyradiomics-master/notebooks/train_PNEUMONIA_mask/person5_bacteria_16.jpeg_mask.nrrd\n",
      "image start and end time is:  18:20:17  to  18:20:20\n",
      "s1,s2:  person18_bacteria_57.jpeg.nrrd  -  person18_bacteria_57.jpeg_mask.nrrd\n",
      "image start time is:  18:20:20\n",
      "/home/yuga/Documents/pyradiomics/pyradiomics-master/notebooks/train/PNEUMONIA/person18_bacteria_57.jpeg.nrrd\n",
      "/home/yuga/Documents/pyradiomics/pyradiomics-master/notebooks/train_PNEUMONIA_mask/person18_bacteria_57.jpeg_mask.nrrd\n"
     ]
    },
    {
     "name": "stderr",
     "output_type": "stream",
     "text": [
      "Shape features are only available 3D input (for 2D input, use shape2D). Found 2D input\n"
     ]
    },
    {
     "name": "stdout",
     "output_type": "stream",
     "text": [
      "image start and end time is:  18:20:20  to  18:20:25\n",
      "s1,s2:  person23_bacteria_82.jpeg.nrrd  -  person23_bacteria_82.jpeg_mask.nrrd\n",
      "image start time is:  18:20:25\n",
      "/home/yuga/Documents/pyradiomics/pyradiomics-master/notebooks/train/PNEUMONIA/person23_bacteria_82.jpeg.nrrd\n",
      "/home/yuga/Documents/pyradiomics/pyradiomics-master/notebooks/train_PNEUMONIA_mask/person23_bacteria_82.jpeg_mask.nrrd\n"
     ]
    },
    {
     "name": "stderr",
     "output_type": "stream",
     "text": [
      "Shape features are only available 3D input (for 2D input, use shape2D). Found 2D input\n",
      "Shape features are only available 3D input (for 2D input, use shape2D). Found 2D input\n"
     ]
    },
    {
     "name": "stdout",
     "output_type": "stream",
     "text": [
      "image start and end time is:  18:20:25  to  18:20:28\n",
      "s1,s2:  person3_virus_16.jpeg.nrrd  -  person3_virus_16.jpeg_mask.nrrd\n",
      "image start time is:  18:20:28\n",
      "/home/yuga/Documents/pyradiomics/pyradiomics-master/notebooks/train/PNEUMONIA/person3_virus_16.jpeg.nrrd\n",
      "/home/yuga/Documents/pyradiomics/pyradiomics-master/notebooks/train_PNEUMONIA_mask/person3_virus_16.jpeg_mask.nrrd\n",
      "image start and end time is:  18:20:28  to  18:20:32\n",
      "s1,s2:  person23_bacteria_101.jpeg.nrrd  -  person23_bacteria_101.jpeg_mask.nrrd\n",
      "image start time is:  18:20:32\n",
      "/home/yuga/Documents/pyradiomics/pyradiomics-master/notebooks/train/PNEUMONIA/person23_bacteria_101.jpeg.nrrd\n",
      "/home/yuga/Documents/pyradiomics/pyradiomics-master/notebooks/train_PNEUMONIA_mask/person23_bacteria_101.jpeg_mask.nrrd\n"
     ]
    },
    {
     "name": "stderr",
     "output_type": "stream",
     "text": [
      "Shape features are only available 3D input (for 2D input, use shape2D). Found 2D input\n"
     ]
    },
    {
     "name": "stdout",
     "output_type": "stream",
     "text": [
      "image start and end time is:  18:20:32  to  18:20:35\n",
      "s1,s2:  person22_bacteria_74.jpeg.nrrd  -  person22_bacteria_74.jpeg_mask.nrrd\n",
      "image start time is:  18:20:35\n",
      "/home/yuga/Documents/pyradiomics/pyradiomics-master/notebooks/train/PNEUMONIA/person22_bacteria_74.jpeg.nrrd\n",
      "/home/yuga/Documents/pyradiomics/pyradiomics-master/notebooks/train_PNEUMONIA_mask/person22_bacteria_74.jpeg_mask.nrrd\n"
     ]
    },
    {
     "name": "stderr",
     "output_type": "stream",
     "text": [
      "Shape features are only available 3D input (for 2D input, use shape2D). Found 2D input\n",
      "Shape features are only available 3D input (for 2D input, use shape2D). Found 2D input\n"
     ]
    },
    {
     "name": "stdout",
     "output_type": "stream",
     "text": [
      "image start and end time is:  18:20:35  to  18:20:39\n",
      "s1,s2:  person23_bacteria_93.jpeg.nrrd  -  person23_bacteria_93.jpeg_mask.nrrd\n",
      "image start time is:  18:20:39\n",
      "/home/yuga/Documents/pyradiomics/pyradiomics-master/notebooks/train/PNEUMONIA/person23_bacteria_93.jpeg.nrrd\n",
      "/home/yuga/Documents/pyradiomics/pyradiomics-master/notebooks/train_PNEUMONIA_mask/person23_bacteria_93.jpeg_mask.nrrd\n"
     ]
    },
    {
     "name": "stderr",
     "output_type": "stream",
     "text": [
      "Shape features are only available 3D input (for 2D input, use shape2D). Found 2D input\n"
     ]
    },
    {
     "name": "stdout",
     "output_type": "stream",
     "text": [
      "image start and end time is:  18:20:39  to  18:20:41\n",
      "s1,s2:  person23_bacteria_107.jpeg.nrrd  -  person23_bacteria_107.jpeg_mask.nrrd\n",
      "image start time is:  18:20:41\n",
      "/home/yuga/Documents/pyradiomics/pyradiomics-master/notebooks/train/PNEUMONIA/person23_bacteria_107.jpeg.nrrd\n",
      "/home/yuga/Documents/pyradiomics/pyradiomics-master/notebooks/train_PNEUMONIA_mask/person23_bacteria_107.jpeg_mask.nrrd\n",
      "image start and end time is:  18:20:41  to  18:20:44\n",
      "the time taken is  18:14:44  to  18:20:44\n"
     ]
    }
   ],
   "source": [
    "#path1 = '/home/yuga/Documents/pyradiomics/pyradiomics-master/notebooks'\n",
    "#path2 = \n",
    "counter = 0\n",
    "start = datetime.now().strftime(\"%H:%M:%S\")\n",
    "print('the start time is: ', start)\n",
    "extractor = featureextractor.RadiomicsFeatureExtractor(r'/home/yuga/Documents/pyradiomics/pyradiomics-master/examples/exampleSettings/Params.yaml')\n",
    "extractor.enableFeatureClassByName('shape2D')\n",
    "extractor.enableImageTypeByName('SquareRoot') # Wavelet, Square, SquareRoot,Logarithm, Exponential, Gradient, LBP2D\n",
    "keys, values = [], []\n",
    "path = '/home/yuga/Documents/pyradiomics/pyradiomics-master/notebooks/train/PNEUMONIA/'\n",
    "mpath = '/home/yuga/Documents/pyradiomics/pyradiomics-master/notebooks/train_PNEUMONIA_mask/'\n",
    "#print(path)\n",
    "\n",
    "for imageName in glob.glob(path+'*.nrrd'):\n",
    "    s1 = imageName[78:]\n",
    "    s2 = s1.replace('jpeg','jpeg_mask')\n",
    "    print('s1,s2: ', s1,' - ', s2)\n",
    "    img_start_time = datetime.now().strftime(\"%H:%M:%S\")\n",
    "    print('image start time is: ', img_start_time)\n",
    "    print(path+s1)\n",
    "    print(mpath+s2)\n",
    "    features = extractor.execute(path+s1, mpath + s2, label=1)\n",
    "    img_end_time = datetime.now().strftime(\"%H:%M:%S\")\n",
    "    print('image start and end time is: ', img_start_time,' to ',  img_end_time)    \n",
    "    \n",
    "    keys, values = [], []\n",
    "    #keys.append(s1)\n",
    "    for key, value in features.items():\n",
    "        if counter == 0:\n",
    "            keys.append(key)\n",
    "        values.append(value)\n",
    "    keys.insert(0,'image_name')\n",
    "    values.insert(0,s1)\n",
    "    \n",
    "    with open(\"train_pneumonia_squareroot_v3.csv\", \"a\") as outfile:\n",
    "        csvwriter = csv.writer(outfile)\n",
    "        if counter == 0:\n",
    "            csvwriter.writerow(keys)\n",
    "        csvwriter.writerow(values)\n",
    "        counter += 1\n",
    "end = datetime.now().strftime(\"%H:%M:%S\")\n",
    "print('the time taken is ', start, ' to ',  end )\n",
    "    "
   ]
  },
  {
   "cell_type": "code",
   "execution_count": null,
   "id": "34a7ca65",
   "metadata": {},
   "outputs": [],
   "source": []
  }
 ],
 "metadata": {
  "kernelspec": {
   "display_name": "Python 3",
   "language": "python",
   "name": "python3"
  },
  "language_info": {
   "codemirror_mode": {
    "name": "ipython",
    "version": 3
   },
   "file_extension": ".py",
   "mimetype": "text/x-python",
   "name": "python",
   "nbconvert_exporter": "python",
   "pygments_lexer": "ipython3",
   "version": "3.8.8"
  }
 },
 "nbformat": 4,
 "nbformat_minor": 5
}
